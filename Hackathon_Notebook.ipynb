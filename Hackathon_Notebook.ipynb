{
  "nbformat": 4,
  "nbformat_minor": 0,
  "metadata": {
    "colab": {
      "name": "Hackathon-Notebook.ipynb",
      "provenance": [],
      "authorship_tag": "ABX9TyNDatydLm4JIkp6HjJ3n0y8",
      "include_colab_link": true
    },
    "kernelspec": {
      "name": "python3",
      "display_name": "Python 3"
    }
  },
  "cells": [
    {
      "cell_type": "markdown",
      "metadata": {
        "id": "view-in-github",
        "colab_type": "text"
      },
      "source": [
        "<a href=\"https://colab.research.google.com/github/JOPloume/AI2SWINTERDATATHON_PROBLEM/blob/main/Hackathon_Notebook.ipynb\" target=\"_parent\"><img src=\"https://colab.research.google.com/assets/colab-badge.svg\" alt=\"Open In Colab\"/></a>"
      ]
    },
    {
      "cell_type": "markdown",
      "metadata": {
        "id": "daG8zyXk8CEQ"
      },
      "source": [
        "Our Hackathon Notebook"
      ]
    },
    {
      "cell_type": "code",
      "metadata": {
        "id": "ngO-Z1dO7-4X",
        "colab": {
          "base_uri": "https://localhost:8080/"
        },
        "outputId": "0e047b03-b64b-4b3b-8513-4fe648e6d301"
      },
      "source": [
        "from google.colab import drive\n",
        "drive.mount('/content/drive')"
      ],
      "execution_count": 1,
      "outputs": [
        {
          "output_type": "stream",
          "text": [
            "Mounted at /content/drive\n"
          ],
          "name": "stdout"
        }
      ]
    },
    {
      "cell_type": "code",
      "metadata": {
        "colab": {
          "base_uri": "https://localhost:8080/",
          "height": 496
        },
        "id": "U9SnW0cPxO79",
        "outputId": "b5442a32-fa94-49af-dee4-fcf37dae9042"
      },
      "source": [
        "import pandas as pd\n",
        "\n",
        "df_tokens = pd.read_csv('/content/drive/MyDrive/AI2S-Winter-Datathon-2021/data/tokens.csv')\n",
        "df_tokens.head()"
      ],
      "execution_count": 2,
      "outputs": [
        {
          "output_type": "execute_result",
          "data": {
            "text/html": [
              "<div>\n",
              "<style scoped>\n",
              "    .dataframe tbody tr th:only-of-type {\n",
              "        vertical-align: middle;\n",
              "    }\n",
              "\n",
              "    .dataframe tbody tr th {\n",
              "        vertical-align: top;\n",
              "    }\n",
              "\n",
              "    .dataframe thead th {\n",
              "        text-align: right;\n",
              "    }\n",
              "</style>\n",
              "<table border=\"1\" class=\"dataframe\">\n",
              "  <thead>\n",
              "    <tr style=\"text-align: right;\">\n",
              "      <th></th>\n",
              "      <th>name</th>\n",
              "      <th>description</th>\n",
              "      <th>tags</th>\n",
              "      <th>image</th>\n",
              "      <th>media</th>\n",
              "      <th>type</th>\n",
              "      <th>size</th>\n",
              "      <th>dimensions</th>\n",
              "      <th>creator</th>\n",
              "      <th>tokenId</th>\n",
              "    </tr>\n",
              "  </thead>\n",
              "  <tbody>\n",
              "    <tr>\n",
              "      <th>0</th>\n",
              "      <td>Honey Flyer</td>\n",
              "      <td>Honey Flyer\\nAn animated musical artwork \\nby ...</td>\n",
              "      <td>insect art flying animation mp4 music collage ...</td>\n",
              "      <td>https://ipfs.pixura.io/ipfs/QmfJgGEcbSQGv17fH2...</td>\n",
              "      <td>https://ipfs.pixura.io/ipfs/Qmbu1wdKzCYdDEazme...</td>\n",
              "      <td>video/mp4</td>\n",
              "      <td>51921839.0</td>\n",
              "      <td>3840x2160</td>\n",
              "      <td>0x1a1136a351fb653df6af838442c9fdf44f2f42d8</td>\n",
              "      <td>0</td>\n",
              "    </tr>\n",
              "    <tr>\n",
              "      <th>1</th>\n",
              "      <td>RainbowIceCream</td>\n",
              "      <td>Some rainbow ice cream to feel better..</td>\n",
              "      <td>icecream  rainbow  multicolor  rainbowcolor  f...</td>\n",
              "      <td>https://ipfs.pixura.io/ipfs/QmZshWyBv9cC9s5oAx...</td>\n",
              "      <td>NaN</td>\n",
              "      <td>NaN</td>\n",
              "      <td>NaN</td>\n",
              "      <td>NaN</td>\n",
              "      <td>0x509de581ff7d32b7c38e95122de8b3ca59da9159</td>\n",
              "      <td>1</td>\n",
              "    </tr>\n",
              "    <tr>\n",
              "      <th>2</th>\n",
              "      <td>Sorry, could you please explain MLIBTY Shadows?</td>\n",
              "      <td>This work was first sketched in one visual con...</td>\n",
              "      <td>mlibtyshadows mlibty comic drawing animation c...</td>\n",
              "      <td>https://ipfs.pixura.io/ipfs/QmYNVnHZVncKs6buy3...</td>\n",
              "      <td>https://ipfs.pixura.io/ipfs/QmYNVnHZVncKs6buy3...</td>\n",
              "      <td>image/gif</td>\n",
              "      <td>19690226.0</td>\n",
              "      <td>2600x2000</td>\n",
              "      <td>0x9eec0b5bd8a48047f0dcc61e98b4b92951480f98</td>\n",
              "      <td>2</td>\n",
              "    </tr>\n",
              "    <tr>\n",
              "      <th>3</th>\n",
              "      <td>House that Nakashima Built, the Tea Ceremony</td>\n",
              "      <td>Neural Bricolage collage series, my original h...</td>\n",
              "      <td>NeuralBricolage GANCollage prettyInGAN AIArt G...</td>\n",
              "      <td>https://ipfs.pixura.io/ipfs/QmQNCb1LAg6b5R6aHa...</td>\n",
              "      <td>https://ipfs.pixura.io/ipfs/QmQNCb1LAg6b5R6aHa...</td>\n",
              "      <td>image/png</td>\n",
              "      <td>23566815.0</td>\n",
              "      <td>3900x2930</td>\n",
              "      <td>0x733983a4c7e778ca9f57cac6ee361c4a9b24e4b1</td>\n",
              "      <td>3</td>\n",
              "    </tr>\n",
              "    <tr>\n",
              "      <th>4</th>\n",
              "      <td>Iniectio Pecunia</td>\n",
              "      <td>The Money Injection of Ethereum into the syste...</td>\n",
              "      <td>cryptoart digitalart gif ETH ethereum mixmedia...</td>\n",
              "      <td>https://ipfs.pixura.io/ipfs/QmWCHk7BaB3CKU3giA...</td>\n",
              "      <td>https://ipfs.pixura.io/ipfs/QmWCHk7BaB3CKU3giA...</td>\n",
              "      <td>image/gif</td>\n",
              "      <td>5083406.0</td>\n",
              "      <td>851x1211</td>\n",
              "      <td>0xa12db9f88f096f527fbe87a752c6ec16d501a25f</td>\n",
              "      <td>4</td>\n",
              "    </tr>\n",
              "  </tbody>\n",
              "</table>\n",
              "</div>"
            ],
            "text/plain": [
              "                                              name  ... tokenId\n",
              "0                                      Honey Flyer  ...       0\n",
              "1                                  RainbowIceCream  ...       1\n",
              "2  Sorry, could you please explain MLIBTY Shadows?  ...       2\n",
              "3    House that Nakashima Built, the Tea Ceremony   ...       3\n",
              "4                                Iniectio Pecunia   ...       4\n",
              "\n",
              "[5 rows x 10 columns]"
            ]
          },
          "metadata": {
            "tags": []
          },
          "execution_count": 2
        }
      ]
    },
    {
      "cell_type": "code",
      "metadata": {
        "colab": {
          "base_uri": "https://localhost:8080/"
        },
        "id": "dJlvYAkz10p4",
        "outputId": "60d57bb3-9e65-4a68-d452-e597a7b7310e"
      },
      "source": [
        "df_tokens.shape\n"
      ],
      "execution_count": 3,
      "outputs": [
        {
          "output_type": "execute_result",
          "data": {
            "text/plain": [
              "(18518, 10)"
            ]
          },
          "metadata": {
            "tags": []
          },
          "execution_count": 3
        }
      ]
    },
    {
      "cell_type": "code",
      "metadata": {
        "colab": {
          "base_uri": "https://localhost:8080/",
          "height": 204
        },
        "id": "PfsEgzrt1-u2",
        "outputId": "4b8b6b73-d41d-4055-a2cd-7981caf0bfbf"
      },
      "source": [
        "df_train = pd.read_csv('/content/drive/MyDrive/AI2S-Winter-Datathon-2021/data/train.csv')\n",
        "df_train.head()"
      ],
      "execution_count": 4,
      "outputs": [
        {
          "output_type": "execute_result",
          "data": {
            "text/html": [
              "<div>\n",
              "<style scoped>\n",
              "    .dataframe tbody tr th:only-of-type {\n",
              "        vertical-align: middle;\n",
              "    }\n",
              "\n",
              "    .dataframe tbody tr th {\n",
              "        vertical-align: top;\n",
              "    }\n",
              "\n",
              "    .dataframe thead th {\n",
              "        text-align: right;\n",
              "    }\n",
              "</style>\n",
              "<table border=\"1\" class=\"dataframe\">\n",
              "  <thead>\n",
              "    <tr style=\"text-align: right;\">\n",
              "      <th></th>\n",
              "      <th>buyer</th>\n",
              "      <th>tokenId</th>\n",
              "      <th>affinity</th>\n",
              "    </tr>\n",
              "  </thead>\n",
              "  <tbody>\n",
              "    <tr>\n",
              "      <th>0</th>\n",
              "      <td>0xbc74c3adc2aa6a85bda3eca5b0e235ca08532772</td>\n",
              "      <td>11656</td>\n",
              "      <td>0.347023</td>\n",
              "    </tr>\n",
              "    <tr>\n",
              "      <th>1</th>\n",
              "      <td>0xbc74c3adc2aa6a85bda3eca5b0e235ca08532772</td>\n",
              "      <td>14031</td>\n",
              "      <td>0.347023</td>\n",
              "    </tr>\n",
              "    <tr>\n",
              "      <th>2</th>\n",
              "      <td>0xbc74c3adc2aa6a85bda3eca5b0e235ca08532772</td>\n",
              "      <td>2022</td>\n",
              "      <td>0.336863</td>\n",
              "    </tr>\n",
              "    <tr>\n",
              "      <th>3</th>\n",
              "      <td>0xbc74c3adc2aa6a85bda3eca5b0e235ca08532772</td>\n",
              "      <td>11222</td>\n",
              "      <td>0.336863</td>\n",
              "    </tr>\n",
              "    <tr>\n",
              "      <th>4</th>\n",
              "      <td>0x337101def3eeb6f06e071efe02216274507937bb</td>\n",
              "      <td>7956</td>\n",
              "      <td>0.421763</td>\n",
              "    </tr>\n",
              "  </tbody>\n",
              "</table>\n",
              "</div>"
            ],
            "text/plain": [
              "                                        buyer  tokenId  affinity\n",
              "0  0xbc74c3adc2aa6a85bda3eca5b0e235ca08532772    11656  0.347023\n",
              "1  0xbc74c3adc2aa6a85bda3eca5b0e235ca08532772    14031  0.347023\n",
              "2  0xbc74c3adc2aa6a85bda3eca5b0e235ca08532772     2022  0.336863\n",
              "3  0xbc74c3adc2aa6a85bda3eca5b0e235ca08532772    11222  0.336863\n",
              "4  0x337101def3eeb6f06e071efe02216274507937bb     7956  0.421763"
            ]
          },
          "metadata": {
            "tags": []
          },
          "execution_count": 4
        }
      ]
    },
    {
      "cell_type": "code",
      "metadata": {
        "colab": {
          "base_uri": "https://localhost:8080/"
        },
        "id": "83G6i_Yc2Ns8",
        "outputId": "c7916398-1058-4524-a708-08c53d027a7c"
      },
      "source": [
        "df_train.shape"
      ],
      "execution_count": 5,
      "outputs": [
        {
          "output_type": "execute_result",
          "data": {
            "text/plain": [
              "(12173, 3)"
            ]
          },
          "metadata": {
            "tags": []
          },
          "execution_count": 5
        }
      ]
    },
    {
      "cell_type": "code",
      "metadata": {
        "colab": {
          "base_uri": "https://localhost:8080/"
        },
        "id": "J-LBioNa2RlD",
        "outputId": "46b0fb49-0b42-4acd-ade8-502fad2c769d"
      },
      "source": [
        "df_test = pd.read_csv('/content/drive/MyDrive/AI2S-Winter-Datathon-2021/data/test.csv')\n",
        "df_test.shape"
      ],
      "execution_count": 7,
      "outputs": [
        {
          "output_type": "execute_result",
          "data": {
            "text/plain": [
              "(1307, 2)"
            ]
          },
          "metadata": {
            "tags": []
          },
          "execution_count": 7
        }
      ]
    },
    {
      "cell_type": "code",
      "metadata": {
        "colab": {
          "base_uri": "https://localhost:8080/",
          "height": 513
        },
        "id": "SFhyMKMv3UHq",
        "outputId": "f885c6eb-0226-4c47-95b2-171f5bb1e0bd"
      },
      "source": [
        "df_tokens_train = pd.merge(df_train, df_tokens)\n",
        "df_tokens_train.head()"
      ],
      "execution_count": 9,
      "outputs": [
        {
          "output_type": "execute_result",
          "data": {
            "text/html": [
              "<div>\n",
              "<style scoped>\n",
              "    .dataframe tbody tr th:only-of-type {\n",
              "        vertical-align: middle;\n",
              "    }\n",
              "\n",
              "    .dataframe tbody tr th {\n",
              "        vertical-align: top;\n",
              "    }\n",
              "\n",
              "    .dataframe thead th {\n",
              "        text-align: right;\n",
              "    }\n",
              "</style>\n",
              "<table border=\"1\" class=\"dataframe\">\n",
              "  <thead>\n",
              "    <tr style=\"text-align: right;\">\n",
              "      <th></th>\n",
              "      <th>buyer</th>\n",
              "      <th>tokenId</th>\n",
              "      <th>affinity</th>\n",
              "      <th>name</th>\n",
              "      <th>description</th>\n",
              "      <th>tags</th>\n",
              "      <th>image</th>\n",
              "      <th>media</th>\n",
              "      <th>type</th>\n",
              "      <th>size</th>\n",
              "      <th>dimensions</th>\n",
              "      <th>creator</th>\n",
              "    </tr>\n",
              "  </thead>\n",
              "  <tbody>\n",
              "    <tr>\n",
              "      <th>0</th>\n",
              "      <td>0xbc74c3adc2aa6a85bda3eca5b0e235ca08532772</td>\n",
              "      <td>11656</td>\n",
              "      <td>0.347023</td>\n",
              "      <td>Colors of the Eye</td>\n",
              "      <td>In the eye of the beholder, that is where beau...</td>\n",
              "      <td>Deep-Style A.I. Weavesilk Eye</td>\n",
              "      <td>https://ipfs.pixura.io/ipfs/Qmbq25z8X3cqurXQY3...</td>\n",
              "      <td>NaN</td>\n",
              "      <td>NaN</td>\n",
              "      <td>NaN</td>\n",
              "      <td>NaN</td>\n",
              "      <td>0x60d38778adbbeeac88f741b833cbb9877228eea0</td>\n",
              "    </tr>\n",
              "    <tr>\n",
              "      <th>1</th>\n",
              "      <td>0x54d7f921785ebe46010d83c73712e80dfaff1e81</td>\n",
              "      <td>11656</td>\n",
              "      <td>10.000000</td>\n",
              "      <td>Colors of the Eye</td>\n",
              "      <td>In the eye of the beholder, that is where beau...</td>\n",
              "      <td>Deep-Style A.I. Weavesilk Eye</td>\n",
              "      <td>https://ipfs.pixura.io/ipfs/Qmbq25z8X3cqurXQY3...</td>\n",
              "      <td>NaN</td>\n",
              "      <td>NaN</td>\n",
              "      <td>NaN</td>\n",
              "      <td>NaN</td>\n",
              "      <td>0x60d38778adbbeeac88f741b833cbb9877228eea0</td>\n",
              "    </tr>\n",
              "    <tr>\n",
              "      <th>2</th>\n",
              "      <td>0xd0c0650cd08acd4e9553c48c60c94be04fecce43</td>\n",
              "      <td>11656</td>\n",
              "      <td>10.000000</td>\n",
              "      <td>Colors of the Eye</td>\n",
              "      <td>In the eye of the beholder, that is where beau...</td>\n",
              "      <td>Deep-Style A.I. Weavesilk Eye</td>\n",
              "      <td>https://ipfs.pixura.io/ipfs/Qmbq25z8X3cqurXQY3...</td>\n",
              "      <td>NaN</td>\n",
              "      <td>NaN</td>\n",
              "      <td>NaN</td>\n",
              "      <td>NaN</td>\n",
              "      <td>0x60d38778adbbeeac88f741b833cbb9877228eea0</td>\n",
              "    </tr>\n",
              "    <tr>\n",
              "      <th>3</th>\n",
              "      <td>0xbc74c3adc2aa6a85bda3eca5b0e235ca08532772</td>\n",
              "      <td>14031</td>\n",
              "      <td>0.347023</td>\n",
              "      <td>Character 3584</td>\n",
              "      <td>I have found this character after running a se...</td>\n",
              "      <td>illustration  drawing  digital  GAN  neural  A...</td>\n",
              "      <td>https://ipfs.pixura.io/ipfs/QmeGTrtJsTaRwqfPzQ...</td>\n",
              "      <td>NaN</td>\n",
              "      <td>NaN</td>\n",
              "      <td>NaN</td>\n",
              "      <td>NaN</td>\n",
              "      <td>0x63386facda7974211b5916bd10518e1cac19cb85</td>\n",
              "    </tr>\n",
              "    <tr>\n",
              "      <th>4</th>\n",
              "      <td>0x6853a596d6d7264d3622546da3b891b6fe17eb82</td>\n",
              "      <td>14031</td>\n",
              "      <td>1.689507</td>\n",
              "      <td>Character 3584</td>\n",
              "      <td>I have found this character after running a se...</td>\n",
              "      <td>illustration  drawing  digital  GAN  neural  A...</td>\n",
              "      <td>https://ipfs.pixura.io/ipfs/QmeGTrtJsTaRwqfPzQ...</td>\n",
              "      <td>NaN</td>\n",
              "      <td>NaN</td>\n",
              "      <td>NaN</td>\n",
              "      <td>NaN</td>\n",
              "      <td>0x63386facda7974211b5916bd10518e1cac19cb85</td>\n",
              "    </tr>\n",
              "  </tbody>\n",
              "</table>\n",
              "</div>"
            ],
            "text/plain": [
              "                                        buyer  ...                                     creator\n",
              "0  0xbc74c3adc2aa6a85bda3eca5b0e235ca08532772  ...  0x60d38778adbbeeac88f741b833cbb9877228eea0\n",
              "1  0x54d7f921785ebe46010d83c73712e80dfaff1e81  ...  0x60d38778adbbeeac88f741b833cbb9877228eea0\n",
              "2  0xd0c0650cd08acd4e9553c48c60c94be04fecce43  ...  0x60d38778adbbeeac88f741b833cbb9877228eea0\n",
              "3  0xbc74c3adc2aa6a85bda3eca5b0e235ca08532772  ...  0x63386facda7974211b5916bd10518e1cac19cb85\n",
              "4  0x6853a596d6d7264d3622546da3b891b6fe17eb82  ...  0x63386facda7974211b5916bd10518e1cac19cb85\n",
              "\n",
              "[5 rows x 12 columns]"
            ]
          },
          "metadata": {
            "tags": []
          },
          "execution_count": 9
        }
      ]
    }
  ]
}